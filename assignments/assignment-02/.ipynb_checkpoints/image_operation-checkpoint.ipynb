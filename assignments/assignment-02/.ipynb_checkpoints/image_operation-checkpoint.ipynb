{
 "cells": [
  {
   "cell_type": "code",
   "execution_count": 2,
   "metadata": {},
   "outputs": [],
   "source": [
    "import math\n",
    "from PIL import Image\n",
    "import numpy as np \n",
    "import matplotlib.pyplot as plt"
   ]
  },
  {
   "cell_type": "code",
   "execution_count": 196,
   "metadata": {},
   "outputs": [],
   "source": [
    "\n",
    "\n",
    "\n",
    "\n",
    "class ImageOperation:\n",
    "    def __init__(self,image_file):\n",
    "        # read image to array\n",
    "        self.image = Image.open(image_file)\n",
    "        # image.show()\n",
    "        \n",
    "        self.modified_image = Image.open(image_file)\n",
    "        \n",
    "        # convert image into greyscale\n",
    "        self.image_grey = self.image.convert(\"L\")\n",
    "        # img.show()\n",
    "        \n",
    "        self.dimension = self.image_grey.size\n",
    "        # print(self.dimension)\n",
    "    \n",
    "    #Question no: 1\n",
    "    def laplacianEdgeProfile(self):\n",
    "        \n",
    "        image_values = np.array(self.image_grey)\n",
    "#         final_image_values = np.array(self.image_grey)\n",
    "        final_image_values = np.zeros((self.dimension[1],self.dimension[0]))\n",
    "        for i in range(len(image_values)):\n",
    "            for j in range(len(image_values[0])):\n",
    "                if i == 0: y_previous = 0\n",
    "                else: y_previous = image_values[i-1][j]\n",
    "                if i == len(image_values) - 1: y_forward = 0\n",
    "                else: y_forward = image_values[i+1][j]\n",
    "                if j == 0: x_previous = 0\n",
    "                else: x_previous = image_values[i][j-1]\n",
    "                if j == len(image_values[0]) - 1: x_forward = 0\n",
    "                else: x_forward = image_values[i][j+1]\n",
    "                    \n",
    "                center = 4*(image_values[i][j])\n",
    "#                 print(x_forward, x_previous, y_forward, y_previous, center)\n",
    "                final_value = x_previous + x_forward + y_previous + y_forward - center \n",
    "#                 if final_value < 0:\n",
    "#                     print(final_value, i)\n",
    "                final_image_values[i][j] = final_value\n",
    "\n",
    "        img = Image.fromarray(final_image_values)\n",
    "        img.show()\n",
    "        \n",
    "        \n",
    "    def laplacianEdgeProfile(self, image):\n",
    "        \n",
    "        image_values = np.array(image)\n",
    "#         final_image_values = np.array(self.image_grey)\n",
    "        final_image_values = np.zeros((self.dimension[1],self.dimension[0]))\n",
    "        for i in range(len(image_values)):\n",
    "            for j in range(len(image_values[0])):\n",
    "                if i == 0: y_previous = 0\n",
    "                else: y_previous = image_values[i-1][j]\n",
    "                if i == len(image_values) - 1: y_forward = 0\n",
    "                else: y_forward = image_values[i+1][j]\n",
    "                if j == 0: x_previous = 0\n",
    "                else: x_previous = image_values[i][j-1]\n",
    "                if j == len(image_values[0]) - 1: x_forward = 0\n",
    "                else: x_forward = image_values[i][j+1]\n",
    "                    \n",
    "                center = 4*(image_values[i][j])\n",
    "#                 print(x_forward, x_previous, y_forward, y_previous, center)\n",
    "                final_value = x_previous + x_forward + y_previous + y_forward - center \n",
    "#                 if final_value < 0:\n",
    "#                     print(final_value, i)\n",
    "                final_image_values[i][j] = final_value\n",
    "\n",
    "        img = Image.fromarray(final_image_values)\n",
    "        return img \n",
    "        \n",
    "    \n",
    "    \n",
    "        \n",
    "    #Question no: 2\n",
    "    def laplacianOfGaussian(self, sigma):\n",
    "        \"\"\"First we will calculate the Gaussian lowpass filter to smooth the image and then apply the Laplacian to get the required filter\"\"\"\n",
    "        image_values = np.array(self.image_grey)\n",
    "        final_image_values = np.zeros((self.dimension[1],self.dimension[0]))\n",
    "#         sigma = np.var(image_values)\n",
    "        \n",
    "        # Gaussian Low pass filter\n",
    "        for i in range(len(image_values)):\n",
    "            for j in range(len(image_values[0])):\n",
    "                \n",
    "                final_value = round(math.exp((-(image_values[i][j]**2) / (sigma**2))))\n",
    "#                 print(final_value)\n",
    "                final_image_values[i][j] = final_value\n",
    "                \n",
    "                \n",
    "        img = Image.fromarray(final_image_values,\"L\")\n",
    "#         instance = ImageOperation(img)\n",
    "        img = self.laplacianEdgeProfile(img)\n",
    "        img.show()\n",
    "        \n",
    "        \n",
    "    #Question no: 3\n",
    "    def signalToNoiseRatio(self, image_file):\n",
    "        original_image_values = np.array(self.image_grey)\n",
    "        # read image to array\n",
    "        noisey_image = Image.open(image_file)\n",
    "        # image.show()\n",
    "        \n",
    "        # convert image into greyscale\n",
    "        image_grey = noisey_image.convert(\"L\")\n",
    "        noisey_image_values = np.array(image_grey)\n",
    "        \n",
    "        sum_of_noise_values = 0\n",
    "        for i in range(len(noisey_image_values)):\n",
    "            for j in range(len(noisey_image_values[0])):\n",
    "                sum_of_noise_values += (noisey_image_values[i][j]**2)\n",
    "                \n",
    "        difference_of_noisey_original = 0\n",
    "        for i in range(len(noisey_image_values)):\n",
    "            for j in range(len(noisey_image_values[0])):\n",
    "                difference_of_noisey_original += ((original_image_values[i][j] - noisey_image_values[i][j]) ** 2)\n",
    "                \n",
    "        snr = sum_of_noise_values // difference_of_noisey_original \n",
    "        return snr\n",
    "                \n",
    "        \n",
    "    #Question no: 4\n",
    "    def frequencyDomain(self):\n",
    "        original_image_values = np.array(self.image_grey)\n",
    "        magnitude_image_values = np.zeros((self.dimension[1],self.dimension[0]))\n",
    "        phase_image_values = np.zeros((self.dimension[1],self.dimension[0]))\n",
    "        \n",
    "        M = len(magnitude_image_values)\n",
    "        N = len(magnitude_image_values[0])  \n",
    "        for m in range(len(magnitude_image_values)):\n",
    "            for n in range(len(magnitude_image_values[0])):\n",
    "                imaginary_value = 0\n",
    "                real_value = 0\n",
    "                for x in range(len(original_image_values)):\n",
    "                    for y in range(len(original_image_values[0])):\n",
    "                        power_value = ((x * m) / M) + ((y*n) / N)\n",
    "                        result = f\"{(math.e**(math.pi*2j*power_value)) * original_image_values[x][y]:.2f}\"\n",
    "                        r_value = 1\n",
    "                        if result[0] == '-':\n",
    "                            result = result[1:]\n",
    "                            r_value *= -1\n",
    "                        result = result.split(\"-\")\n",
    "                        if len(result)>1:\n",
    "                            real_value += r_value*float(result[0])\n",
    "                            imaginary_value += -1*float(result[1][:-1])\n",
    "\n",
    "                        else:\n",
    "                            result = result[0].split(\"+\")\n",
    "                            real_value += r_value*float(result[0])\n",
    "                            imaginary_value += float(result[1][:-1])\n",
    "                            \n",
    "                magnitude_image_values[m][n] = ((real_value ** 2) + (imaginary_value ** 2)) ** 0.5\n",
    "                try:\n",
    "                    phase_image_values[m][n] = math.atan(abs(real_value/imaginary_value))\n",
    "                except ZeroDivisionError as error:\n",
    "#                     print(error)\n",
    "                    phase_image_values[m][n] = math.radians(90)\n",
    "                    \n",
    "        img = Image.fromarray(magnitude_image_values)\n",
    "        img.show()\n",
    "        \n",
    "        \n",
    "    \n",
    "    \n",
    "    #Question no: 5 \n",
    "    def lowPassFilter(self, cut_off_distance=5):\n",
    "        image_values = np.array(self.image_grey)\n",
    "        M = len(image_values)\n",
    "        N = len(image_values[0])\n",
    "        filter_image_values = np.zeros((self.dimension[1],self.dimension[0]))\n",
    "        for u in range(len(filter_image_values)):\n",
    "            for v in range(len(filter_image_values[0])):\n",
    "                distance = ((((u - M) / 2) ** 2) + (((v - N) / 2) ** 2)) ** 0.5\n",
    "                if distance <= cut_off_distance:\n",
    "                    filter_image_values[u][v] = 1\n",
    "                else:\n",
    "                    filter_image_values[u][v] = 0\n",
    "                    \n",
    "    \n",
    "    \n",
    "    #Question no: 6 \n",
    "    def highPassFilter(self, cut_off_distance=5):\n",
    "        image_values = np.array(self.image_grey)\n",
    "        M = len(image_values)\n",
    "        N = len(image_values[0])\n",
    "        filter_image_values = np.zeros((self.dimension[1],self.dimension[0]))\n",
    "        for u in range(len(filter_image_values)):\n",
    "            for v in range(len(filter_image_values[0])):\n",
    "                distance = ((((u - M) / 2) ** 2) + (((v - N) / 2) ** 2)) ** 0.5\n",
    "                if distance <= cut_off_distance:\n",
    "                    filter_image_values[u][v] = 0\n",
    "                else:\n",
    "                    filter_image_values[u][v] = 1"
   ]
  },
  {
   "cell_type": "code",
   "execution_count": 197,
   "metadata": {},
   "outputs": [
    {
     "ename": "KeyboardInterrupt",
     "evalue": "",
     "output_type": "error",
     "traceback": [
      "\u001b[0;31m---------------------------------------------------------------------------\u001b[0m",
      "\u001b[0;31mKeyboardInterrupt\u001b[0m                         Traceback (most recent call last)",
      "\u001b[0;32m<ipython-input-197-1e5b9fe5eaac>\u001b[0m in \u001b[0;36m<module>\u001b[0;34m\u001b[0m\n\u001b[1;32m      5\u001b[0m \u001b[0;31m# instance.laplacianOfGaussian(10)\u001b[0m\u001b[0;34m\u001b[0m\u001b[0;34m\u001b[0m\u001b[0;34m\u001b[0m\u001b[0m\n\u001b[1;32m      6\u001b[0m \u001b[0;31m# instance.signalToNoiseRatio(image)\u001b[0m\u001b[0;34m\u001b[0m\u001b[0;34m\u001b[0m\u001b[0;34m\u001b[0m\u001b[0m\n\u001b[0;32m----> 7\u001b[0;31m \u001b[0minstance\u001b[0m\u001b[0;34m.\u001b[0m\u001b[0mfrequencyDomain\u001b[0m\u001b[0;34m(\u001b[0m\u001b[0;34m)\u001b[0m\u001b[0;34m\u001b[0m\u001b[0;34m\u001b[0m\u001b[0m\n\u001b[0m",
      "\u001b[0;32m<ipython-input-196-bff0c710c6f7>\u001b[0m in \u001b[0;36mfrequencyDomain\u001b[0;34m(self)\u001b[0m\n\u001b[1;32m    133\u001b[0m                     \u001b[0;32mfor\u001b[0m \u001b[0my\u001b[0m \u001b[0;32min\u001b[0m \u001b[0mrange\u001b[0m\u001b[0;34m(\u001b[0m\u001b[0mlen\u001b[0m\u001b[0;34m(\u001b[0m\u001b[0moriginal_image_values\u001b[0m\u001b[0;34m[\u001b[0m\u001b[0;36m0\u001b[0m\u001b[0;34m]\u001b[0m\u001b[0;34m)\u001b[0m\u001b[0;34m)\u001b[0m\u001b[0;34m:\u001b[0m\u001b[0;34m\u001b[0m\u001b[0;34m\u001b[0m\u001b[0m\n\u001b[1;32m    134\u001b[0m                         \u001b[0mpower_value\u001b[0m \u001b[0;34m=\u001b[0m \u001b[0;34m(\u001b[0m\u001b[0;34m(\u001b[0m\u001b[0mx\u001b[0m \u001b[0;34m*\u001b[0m \u001b[0mm\u001b[0m\u001b[0;34m)\u001b[0m \u001b[0;34m/\u001b[0m \u001b[0mM\u001b[0m\u001b[0;34m)\u001b[0m \u001b[0;34m+\u001b[0m \u001b[0;34m(\u001b[0m\u001b[0;34m(\u001b[0m\u001b[0my\u001b[0m\u001b[0;34m*\u001b[0m\u001b[0mn\u001b[0m\u001b[0;34m)\u001b[0m \u001b[0;34m/\u001b[0m \u001b[0mN\u001b[0m\u001b[0;34m)\u001b[0m\u001b[0;34m\u001b[0m\u001b[0;34m\u001b[0m\u001b[0m\n\u001b[0;32m--> 135\u001b[0;31m                         \u001b[0mresult\u001b[0m \u001b[0;34m=\u001b[0m \u001b[0;34mf\"{(math.e**(math.pi*2j*power_value)) * original_image_values[x][y]:.2f}\"\u001b[0m\u001b[0;34m\u001b[0m\u001b[0;34m\u001b[0m\u001b[0m\n\u001b[0m\u001b[1;32m    136\u001b[0m                         \u001b[0mr_value\u001b[0m \u001b[0;34m=\u001b[0m \u001b[0;36m1\u001b[0m\u001b[0;34m\u001b[0m\u001b[0;34m\u001b[0m\u001b[0m\n\u001b[1;32m    137\u001b[0m                         \u001b[0;32mif\u001b[0m \u001b[0mresult\u001b[0m\u001b[0;34m[\u001b[0m\u001b[0;36m0\u001b[0m\u001b[0;34m]\u001b[0m \u001b[0;34m==\u001b[0m \u001b[0;34m'-'\u001b[0m\u001b[0;34m:\u001b[0m\u001b[0;34m\u001b[0m\u001b[0;34m\u001b[0m\u001b[0m\n",
      "\u001b[0;31mKeyboardInterrupt\u001b[0m: "
     ]
    }
   ],
   "source": [
    "# image = \"./pictures/Fig0338(a)(blurry_moon).tif\"\n",
    "image = \"./pictures/Fig0338(a)(blurry_moon).tif\"\n",
    "instance = ImageOperation(image)\n",
    "# instance.laplacianEdgeProfile()\n",
    "# instance.laplacianOfGaussian(10)\n",
    "# instance.signalToNoiseRatio(image)\n",
    "instance.frequencyDomain()"
   ]
  },
  {
   "cell_type": "code",
   "execution_count": 184,
   "metadata": {},
   "outputs": [
    {
     "name": "stdout",
     "output_type": "stream",
     "text": [
      "1.00\n",
      "0.0 -1.0\n"
     ]
    }
   ],
   "source": [
    "result = f\"{(math.e**(math.pi*9/2j)) * 1:.2f}\"\n",
    "r_value = 1\n",
    "if result[0] == '-':\n",
    "    result = result[1:]\n",
    "    r_value *= -1\n",
    "result = result.split(\"-\")\n",
    "if len(result)>1:\n",
    "    r = r_value*float(result[0])\n",
    "    i = -1*float(result[1][:-1])\n",
    "    \n",
    "else:\n",
    "    result = result[0].split(\"+\")\n",
    "    r = r_value*float(result[0])\n",
    "    i = float(result[1][:-1])\n",
    "    "
   ]
  },
  {
   "cell_type": "code",
   "execution_count": 52,
   "metadata": {},
   "outputs": [
    {
     "ename": "ValueError",
     "evalue": "could not convert string to float: '1.000000+0.000000j'",
     "output_type": "error",
     "traceback": [
      "\u001b[0;31m---------------------------------------------------------------------------\u001b[0m",
      "\u001b[0;31mValueError\u001b[0m                                Traceback (most recent call last)",
      "\u001b[0;32m<ipython-input-52-66d9882ced20>\u001b[0m in \u001b[0;36m<module>\u001b[0;34m\u001b[0m\n\u001b[1;32m      1\u001b[0m \u001b[0mhel\u001b[0m \u001b[0;34m=\u001b[0m \u001b[0mhel\u001b[0m\u001b[0;34m.\u001b[0m\u001b[0msplit\u001b[0m\u001b[0;34m(\u001b[0m\u001b[0;34m\"-\"\u001b[0m\u001b[0;34m)\u001b[0m\u001b[0;34m\u001b[0m\u001b[0;34m\u001b[0m\u001b[0m\n\u001b[0;32m----> 2\u001b[0;31m \u001b[0mh\u001b[0m \u001b[0;34m=\u001b[0m \u001b[0mfloat\u001b[0m\u001b[0;34m(\u001b[0m\u001b[0mhel\u001b[0m\u001b[0;34m[\u001b[0m\u001b[0;36m1\u001b[0m\u001b[0;34m]\u001b[0m\u001b[0;34m)\u001b[0m\u001b[0;34m\u001b[0m\u001b[0;34m\u001b[0m\u001b[0m\n\u001b[0m\u001b[1;32m      3\u001b[0m \u001b[0mh\u001b[0m\u001b[0;34m\u001b[0m\u001b[0;34m\u001b[0m\u001b[0m\n",
      "\u001b[0;31mValueError\u001b[0m: could not convert string to float: '1.000000+0.000000j'"
     ]
    }
   ],
   "source": [
    "hel = hel.split(\"-\")\n",
    "h = float(hel[1])\n",
    "h"
   ]
  },
  {
   "cell_type": "code",
   "execution_count": 18,
   "metadata": {},
   "outputs": [
    {
     "data": {
      "text/plain": [
       "'5.000000000000'"
      ]
     },
     "execution_count": 18,
     "metadata": {},
     "output_type": "execute_result"
    }
   ],
   "source": [
    "f\"{(2+2)+ 1:.12f}\""
   ]
  },
  {
   "cell_type": "code",
   "execution_count": 83,
   "metadata": {},
   "outputs": [
    {
     "data": {
      "text/plain": [
       "1.0"
      ]
     },
     "execution_count": 83,
     "metadata": {},
     "output_type": "execute_result"
    }
   ],
   "source": [
    "float(\"+1\")"
   ]
  },
  {
   "cell_type": "code",
   "execution_count": 130,
   "metadata": {},
   "outputs": [
    {
     "data": {
      "text/plain": [
       "45.0"
      ]
     },
     "execution_count": 130,
     "metadata": {},
     "output_type": "execute_result"
    }
   ],
   "source": [
    "math.degrees(math.atan(1))"
   ]
  },
  {
   "cell_type": "code",
   "execution_count": 192,
   "metadata": {},
   "outputs": [
    {
     "ename": "ValueError",
     "evalue": "math domain error",
     "output_type": "error",
     "traceback": [
      "\u001b[0;31m---------------------------------------------------------------------------\u001b[0m",
      "\u001b[0;31mValueError\u001b[0m                                Traceback (most recent call last)",
      "\u001b[0;32m<ipython-input-192-482787477786>\u001b[0m in \u001b[0;36m<module>\u001b[0;34m\u001b[0m\n\u001b[0;32m----> 1\u001b[0;31m \u001b[0mmath\u001b[0m\u001b[0;34m.\u001b[0m\u001b[0mdegrees\u001b[0m\u001b[0;34m(\u001b[0m\u001b[0mmath\u001b[0m\u001b[0;34m.\u001b[0m\u001b[0matan\u001b[0m\u001b[0;34m(\u001b[0m\u001b[0mmath\u001b[0m\u001b[0;34m.\u001b[0m\u001b[0mtan\u001b[0m\u001b[0;34m(\u001b[0m\u001b[0mfloat\u001b[0m\u001b[0;34m(\u001b[0m\u001b[0;34m\"inf\"\u001b[0m\u001b[0;34m)\u001b[0m\u001b[0;34m)\u001b[0m\u001b[0;34m)\u001b[0m\u001b[0;34m)\u001b[0m\u001b[0;34m\u001b[0m\u001b[0;34m\u001b[0m\u001b[0m\n\u001b[0m",
      "\u001b[0;31mValueError\u001b[0m: math domain error"
     ]
    }
   ],
   "source": [
    "math.degrees(math.atan(math.tan(float(\"inf\"))))"
   ]
  },
  {
   "cell_type": "code",
   "execution_count": 189,
   "metadata": {},
   "outputs": [
    {
     "data": {
      "text/plain": [
       "inf"
      ]
     },
     "execution_count": 189,
     "metadata": {},
     "output_type": "execute_result"
    }
   ],
   "source": [
    "float(\"inf\")"
   ]
  },
  {
   "cell_type": "code",
   "execution_count": 200,
   "metadata": {},
   "outputs": [
    {
     "data": {
      "text/plain": [
       "numpy.ndarray"
      ]
     },
     "execution_count": 200,
     "metadata": {},
     "output_type": "execute_result"
    }
   ],
   "source": [
    "arr=np.random.rand(12)\n",
    "type(arr)"
   ]
  },
  {
   "cell_type": "code",
   "execution_count": 201,
   "metadata": {},
   "outputs": [
    {
     "name": "stdout",
     "output_type": "stream",
     "text": [
      "[0.92600629 0.12027068 0.1205397  0.53411314 0.57187782 0.52820471\n",
      " 0.87717467 0.05458013 0.10814315 0.81540808 0.96331105 0.88431511]\n"
     ]
    }
   ],
   "source": [
    "print(arr)"
   ]
  },
  {
   "cell_type": "code",
   "execution_count": null,
   "metadata": {},
   "outputs": [],
   "source": []
  }
 ],
 "metadata": {
  "kernelspec": {
   "display_name": "Python 3",
   "language": "python",
   "name": "python3"
  },
  "language_info": {
   "codemirror_mode": {
    "name": "ipython",
    "version": 3
   },
   "file_extension": ".py",
   "mimetype": "text/x-python",
   "name": "python",
   "nbconvert_exporter": "python",
   "pygments_lexer": "ipython3",
   "version": "3.7.7"
  }
 },
 "nbformat": 4,
 "nbformat_minor": 4
}
