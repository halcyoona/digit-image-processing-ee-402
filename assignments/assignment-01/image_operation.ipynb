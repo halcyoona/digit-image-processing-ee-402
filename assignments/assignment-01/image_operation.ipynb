{
 "cells": [
  {
   "cell_type": "code",
   "execution_count": 109,
   "metadata": {},
   "outputs": [],
   "source": [
    "import math\n",
    "from PIL import Image\n",
    "import numpy as np \n",
    "import matplotlib.pyplot as plt"
   ]
  },
  {
   "cell_type": "code",
   "execution_count": 214,
   "metadata": {},
   "outputs": [],
   "source": [
    "\n",
    "\n",
    "\n",
    "\n",
    "class ImageOperation:\n",
    "    def __init__(self,image_file):\n",
    "        # read image to array\n",
    "        self.image = Image.open(image_file)\n",
    "        # image.show()\n",
    "        \n",
    "        self.modified_image = Image.open(image_file)\n",
    "        \n",
    "        # convert image into greyscale\n",
    "        self.image_grey = self.image.convert(\"L\")\n",
    "        # img.show()\n",
    "        \n",
    "        self.dimension = self.image_grey.size\n",
    "        # print(self.dimension)\n",
    "    \n",
    "    #Question no: 1\n",
    "    def verticalFlip(self):\n",
    "        \n",
    "        image_values = np.array(self.image_grey)\n",
    "        \n",
    "        if self.dimension[0] % 2 == 0:\n",
    "            x = (self.dimension[1] / 2)\n",
    "            count = 0\n",
    "        else:\n",
    "            x = (self.dimesion[1] // 2)\n",
    "            count = 1\n",
    "        x = self.round_int(x)\n",
    "        for i in reversed(range(x)):\n",
    "            for j in range(self.dimension[0]):\n",
    "                temp = image_values[i][j]\n",
    "                image_values[i][j] = image_values[x+count][j] \n",
    "                image_values[x+count][j] = temp\n",
    "            count += 1\n",
    "            \n",
    "        img = Image.fromarray(image_values, 'L')\n",
    "        img.show()\n",
    "        \n",
    "    def round_int(self,x):\n",
    "        if x == float(\"inf\") or x == float(\"-inf\"):\n",
    "            return 0 # or x or return whatever makes sense\n",
    "        return int(round(x))\n",
    "    \n",
    "    \n",
    "    #Question no: 2\n",
    "    def negativeImage(self, histogram=False):\n",
    "        image_values = np.array(self.image_grey)\n",
    "        #print(image_values.shape)\n",
    "        image_values = image_values.reshape(self.dimension[0]*self.dimension[1])\n",
    "        for i in range(len(image_values)):\n",
    "            image_values[i] = 255 - image_values[i]\n",
    "                        \n",
    "        #plot histogram\n",
    "        x = []\n",
    "        y = []\n",
    "        if histogram == True:\n",
    "            for i in range(len(image_values)):\n",
    "                count = 0\n",
    "                for j in range(len(image_values)):\n",
    "                    if image_values[i] in x:\n",
    "                        break\n",
    "                    if image_values[i] == image_values[j]:\n",
    "                        count += 1\n",
    "                if image_values[i] not in x:\n",
    "                    x.append(image_values[i])\n",
    "                    y.append(count)\n",
    "            self.imageHistogram(x,y)\n",
    "        \n",
    "        # Creates PIL image\n",
    "        image_values = image_values.reshape(self.dimension[1], self.dimension[0])\n",
    "        img = Image.fromarray(image_values, 'L')\n",
    "        img.show()\n",
    "        self.modified_image = img\n",
    "        \n",
    "    \n",
    "    #Question no:3\n",
    "    def bitPlane(self, bit_number=0):\n",
    "        if bit_number >= 8:\n",
    "            print(\"Bit Plane number is wrong\")\n",
    "            return None \n",
    "        image_values = np.array(self.image_grey)\n",
    "        bit_image_values = []\n",
    "        #print(image_values.shape)\n",
    "        image_values = image_values.reshape(self.dimension[0]*self.dimension[1])\n",
    "#         bit_image_values = bit_image_values.reshape(self.dimension[0]*self.dimension[1])\n",
    "        \n",
    "        for i in range(len(image_values)):\n",
    "            bit_image_values.append(np.binary_repr(image_values[i], width=8))\n",
    "#             print(bit_image_values[i])\n",
    "        final_image_values = np.array(image_values)\n",
    "        \n",
    "        for j in range(bit_number+1):\n",
    "            bit_list = [  int(i[j] )    for i in bit_image_values]\n",
    "            temp_values = np.array( bit_list ) * (2^(7-j))\n",
    "            for i in range(len(temp_values)):\n",
    "                final_image_values[i] += temp_values[i]\n",
    "        \n",
    "        image_values = final_image_values.reshape(self.dimension[1], self.dimension[0])\n",
    "        # Creates PIL image\n",
    "        img = Image.fromarray(image_values, 'L')\n",
    "        img.show()\n",
    "        self.modified_image = img\n",
    "        \n",
    "    \n",
    "    def brightness(self):\n",
    "        image_values = np.array(self.image_grey)\n",
    "        #print(image_values.shape)\n",
    "        image_values_sum = 0\n",
    "        image_values = image_values.reshape(self.dimension[0]*self.dimension[1])\n",
    "        for i in range(len(image_values)):\n",
    "            image_values_sum += image_values[i]\n",
    "        \n",
    "        return image_values_sum / (self.dimension[0] *self.dimension[1])\n",
    "    \n",
    "    \n",
    "    #Question no: 4\n",
    "    def contrastValue(self):\n",
    "        brightness = self.brightness()\n",
    "        image_values = np.array(self.image_grey)\n",
    "        #print(image_values.shape)\n",
    "        image_values_sum_squares = 0\n",
    "        image_values = image_values.reshape(self.dimension[0]*self.dimension[1])\n",
    "        for i in range(len(image_values)):\n",
    "            image_values_sum_squares += (brightness  - image_values[i]) ** 2\n",
    "        final_result = ((image_values_sum_squares/ (self.dimension[0]*self.dimension[1])) ** 0.5)\n",
    "        return final_result\n",
    "    \n",
    "    \n",
    "    def averageIntensity(self):\n",
    "        image_values = np.array(self.image_grey)\n",
    "        #print(image_values.shape)\n",
    "        image_values_sum = 0\n",
    "        image_values = image_values.reshape(self.dimension[0]*self.dimension[1])\n",
    "        for i in range(len(image_values)):\n",
    "            image_values_sum += image_values[i]\n",
    "        \n",
    "        return image_values_sum / (self.dimension[0] *self.dimension[1])\n",
    "\n",
    "    #Question no: 5\n",
    "    def thresholdingImage(self, threshold=1, histogram=False):\n",
    "        image_values = np.array(self.image_grey)\n",
    "        count = 0\n",
    "        if threshold == 1:\n",
    "            threshold = self.averageIntensity()\n",
    "        #print(image_values.shape)\n",
    "        image_values = image_values.reshape(self.dimension[0]*self.dimension[1])\n",
    "        for i in range(len(image_values)):\n",
    "            if image_values[i] > threshold:\n",
    "                image_values[i] = 255\n",
    "                count += 1\n",
    "            else:\n",
    "                image_values[i] = 0\n",
    "                \n",
    "        #plot histogram  \n",
    "        x = []\n",
    "        y = []\n",
    "        if histogram == True:\n",
    "            for i in range(len(image_values)):\n",
    "                count = 0\n",
    "                for j in range(len(image_values)):\n",
    "                    if image_values[i] in x:\n",
    "                        break\n",
    "                    if image_values[i] == image_values[j]:\n",
    "                        count += 1\n",
    "                if image_values[i] not in x:\n",
    "                    x.append(image_values[i])\n",
    "                    y.append(count)\n",
    "            self.imageHistogram(x,y)\n",
    "        \n",
    "        image_values = image_values.reshape(self.dimension[1], self.dimension[0])\n",
    "        # Creates PIL image\n",
    "        img = Image.fromarray(image_values, 'L')\n",
    "        img.show()\n",
    "        self.modified_image = img\n",
    "    \n",
    "    \n",
    "    \n",
    "    #Question no: 6\n",
    "    def powerLawImage(self, gamma, c=1, histogram=False):\n",
    "        image_values = np.array(self.image_grey)\n",
    "        if c == 1:\n",
    "            c = 255 / (np.log(1 + np.max(image_values)))\n",
    "        \n",
    "        image_values = image_values.reshape(self.dimension[0]*self.dimension[1])\n",
    "        \n",
    "        for i in range(len(image_values)):\n",
    "            image_values[i] = c * (image_values[i] ** gamma)\n",
    "        \n",
    "        #plot histogram\n",
    "        x = []\n",
    "        y = []\n",
    "        if histogram == True:\n",
    "            for i in range(len(image_values)):\n",
    "                count = 0\n",
    "                for j in range(len(image_values)):\n",
    "                    if image_values[i] in x:\n",
    "                        break\n",
    "                    if image_values[i] == image_values[j]:\n",
    "                        count += 1\n",
    "                if image_values[i] not in x:\n",
    "                    x.append(image_values[i])\n",
    "                    y.append(count)\n",
    "            self.imageHistogram(x,y)\n",
    "        \n",
    "        image_values = image_values.reshape(self.dimension[1], self.dimension[0])\n",
    "        # Creates PIL image\n",
    "        img = Image.fromarray(image_values, 'L')\n",
    "        img.show()\n",
    "        self.modified_image = img\n",
    "        \n",
    "    \n",
    "    \n",
    "    #Question no: 7\n",
    "    def contrastStretchingImage(self, a, b, c, d, histogram=False):\n",
    "        image_values = np.array(self.image_grey)\n",
    "        #print(image_values.shape)\n",
    "        \n",
    "        image_values = image_values.reshape(self.dimension[0]*self.dimension[1])\n",
    "        for i in range(len(image_values)):\n",
    "            image_values[i] = ((image_values[i]-c) * ( (b - a)/ (d-c)))+a\n",
    "        \n",
    "        #plot histogram\n",
    "        x = []\n",
    "        y = []\n",
    "        if histogram == True:\n",
    "            for i in range(len(image_values)):\n",
    "                count = 0\n",
    "                for j in range(len(image_values)):\n",
    "                    if image_values[i] in x:\n",
    "                        break\n",
    "                    if image_values[i] == image_values[j]:\n",
    "                        count += 1\n",
    "                if image_values[i] not in x:\n",
    "                    x.append(image_values[i])\n",
    "                    y.append(count)\n",
    "            self.imageHistogram(x,y)\n",
    "        \n",
    "        image_values = image_values.reshape(self.dimension[1], self.dimension[0])\n",
    "        # Creates PIL image\n",
    "        img = Image.fromarray(image_values, 'L')\n",
    "        img.show()\n",
    "        self.modified_image = img\n",
    "        \n",
    "    #Question no: 8\n",
    "    def entropy(self):\n",
    "        \n",
    "        image_values = np.array(self.image_grey)\n",
    "        #print(image_values.shape)\n",
    "        \n",
    "        image_values = image_values.reshape(self.dimension[0]*self.dimension[1])\n",
    "        \n",
    "        #plot histogram\n",
    "        x = []\n",
    "        y = []\n",
    "        p = []\n",
    "        sum_log_prob_value = 0\n",
    "        for i in range(len(image_values)):\n",
    "            count = 0\n",
    "            for j in range(len(image_values)):\n",
    "                if image_values[i] in x:\n",
    "                    break\n",
    "                if image_values[i] == image_values[j]:\n",
    "                    count += 1\n",
    "            if image_values[i] not in x:\n",
    "                x.append(image_values[i])\n",
    "                prob_value = count / (self.dimension[0]*self.dimension[1])\n",
    "                log_prob_value = math.log(prob_value, 2)\n",
    "                sum_log_prob_value += (prob_value * log_prob_value)\n",
    "                p.append(prob_value)\n",
    "                y.append(count)\n",
    "        if histogram == True:\n",
    "            self.imageHistogram(x,y)\n",
    "        return sum_log_prob_value\n",
    "        \n",
    "    \n",
    "    # Question no: 9\n",
    "    def saveImage(self, name):\n",
    "        self.modified_image.save(name+\".jpg\")\n",
    "\n",
    "        \n",
    "    def imageHistogram(self, x, y):\n",
    "\n",
    "#         plt.plot(x, y)\n",
    "\n",
    "#         plt.scatter(x, y, label=\"stars\", color=\"green\",\n",
    "#             marker=\"1\", s=30)\n",
    "        plt.bar(x, y, \n",
    "            width=0.25, color=['red', 'green'])\n",
    "        plt.xlabel('Pixel Value')\n",
    "        plt.ylabel('Number of Occurance')\n",
    "\n",
    "        plt.title('Bar chart')\n",
    "\n",
    "        plt.show()\n",
    "\n",
    "    "
   ]
  },
  {
   "cell_type": "code",
   "execution_count": 217,
   "metadata": {},
   "outputs": [],
   "source": [
    "# image = \"./pictures/Fig0338(a)(blurry_moon).tif\"\n",
    "image = \"./pictures/Fig0314(a)(100-dollars).tif\"\n",
    "instance = ImageOperation(image)\n",
    "instance.bitPlane(7)"
   ]
  },
  {
   "cell_type": "code",
   "execution_count": 146,
   "metadata": {},
   "outputs": [],
   "source": [
    "instance.negativeImage()"
   ]
  },
  {
   "cell_type": "code",
   "execution_count": 147,
   "metadata": {},
   "outputs": [],
   "source": [
    "instance.verticalFlip()\n",
    "instance.saveImage(\"verticalFlip\")"
   ]
  },
  {
   "cell_type": "code",
   "execution_count": 148,
   "metadata": {},
   "outputs": [],
   "source": [
    "instance.thresholdingImage()"
   ]
  },
  {
   "cell_type": "code",
   "execution_count": 173,
   "metadata": {},
   "outputs": [
    {
     "name": "stdout",
     "output_type": "stream",
     "text": [
      "0\n"
     ]
    }
   ],
   "source": []
  },
  {
   "cell_type": "code",
   "execution_count": 24,
   "metadata": {},
   "outputs": [
    {
     "name": "stderr",
     "output_type": "stream",
     "text": [
      "/home/halcyoona/miniconda3/lib/python3.7/site-packages/ipykernel_launcher.py:186: RuntimeWarning: overflow encountered in exp\n"
     ]
    }
   ],
   "source": []
  },
  {
   "cell_type": "code",
   "execution_count": 149,
   "metadata": {},
   "outputs": [],
   "source": [
    "instance.powerLawImage(1.02,1)"
   ]
  },
  {
   "cell_type": "code",
   "execution_count": null,
   "metadata": {},
   "outputs": [],
   "source": []
  },
  {
   "cell_type": "code",
   "execution_count": 150,
   "metadata": {},
   "outputs": [
    {
     "data": {
      "text/plain": [
       "42.658349229057386"
      ]
     },
     "execution_count": 150,
     "metadata": {},
     "output_type": "execute_result"
    }
   ],
   "source": [
    "instance.brightness()"
   ]
  },
  {
   "cell_type": "code",
   "execution_count": 151,
   "metadata": {},
   "outputs": [
    {
     "data": {
      "text/plain": [
       "64.4783018371558"
      ]
     },
     "execution_count": 151,
     "metadata": {},
     "output_type": "execute_result"
    }
   ],
   "source": [
    "instance.contrastValue()"
   ]
  },
  {
   "cell_type": "code",
   "execution_count": 152,
   "metadata": {},
   "outputs": [
    {
     "ename": "NameError",
     "evalue": "name 'histogram' is not defined",
     "output_type": "error",
     "traceback": [
      "\u001b[0;31m---------------------------------------------------------------------------\u001b[0m",
      "\u001b[0;31mNameError\u001b[0m                                 Traceback (most recent call last)",
      "\u001b[0;32m<ipython-input-152-65423933b47b>\u001b[0m in \u001b[0;36m<module>\u001b[0;34m\u001b[0m\n\u001b[0;32m----> 1\u001b[0;31m \u001b[0minstance\u001b[0m\u001b[0;34m.\u001b[0m\u001b[0mentropy\u001b[0m\u001b[0;34m(\u001b[0m\u001b[0;34m)\u001b[0m\u001b[0;34m\u001b[0m\u001b[0;34m\u001b[0m\u001b[0m\n\u001b[0m",
      "\u001b[0;32m<ipython-input-144-72a362ea94cd>\u001b[0m in \u001b[0;36mentropy\u001b[0;34m(self)\u001b[0m\n\u001b[1;32m    239\u001b[0m                 \u001b[0mp\u001b[0m\u001b[0;34m.\u001b[0m\u001b[0mappend\u001b[0m\u001b[0;34m(\u001b[0m\u001b[0mprob_value\u001b[0m\u001b[0;34m)\u001b[0m\u001b[0;34m\u001b[0m\u001b[0;34m\u001b[0m\u001b[0m\n\u001b[1;32m    240\u001b[0m                 \u001b[0my\u001b[0m\u001b[0;34m.\u001b[0m\u001b[0mappend\u001b[0m\u001b[0;34m(\u001b[0m\u001b[0mcount\u001b[0m\u001b[0;34m)\u001b[0m\u001b[0;34m\u001b[0m\u001b[0;34m\u001b[0m\u001b[0m\n\u001b[0;32m--> 241\u001b[0;31m         \u001b[0;32mif\u001b[0m \u001b[0mhistogram\u001b[0m \u001b[0;34m==\u001b[0m \u001b[0;32mTrue\u001b[0m\u001b[0;34m:\u001b[0m\u001b[0;34m\u001b[0m\u001b[0;34m\u001b[0m\u001b[0m\n\u001b[0m\u001b[1;32m    242\u001b[0m             \u001b[0mself\u001b[0m\u001b[0;34m.\u001b[0m\u001b[0mimageHistogram\u001b[0m\u001b[0;34m(\u001b[0m\u001b[0mx\u001b[0m\u001b[0;34m,\u001b[0m\u001b[0my\u001b[0m\u001b[0;34m)\u001b[0m\u001b[0;34m\u001b[0m\u001b[0;34m\u001b[0m\u001b[0m\n\u001b[1;32m    243\u001b[0m         \u001b[0;32mreturn\u001b[0m \u001b[0msum_log_prob_value\u001b[0m\u001b[0;34m\u001b[0m\u001b[0;34m\u001b[0m\u001b[0m\n",
      "\u001b[0;31mNameError\u001b[0m: name 'histogram' is not defined"
     ]
    }
   ],
   "source": [
    "instance.entropy()"
   ]
  },
  {
   "cell_type": "code",
   "execution_count": 123,
   "metadata": {},
   "outputs": [
    {
     "data": {
      "text/plain": [
       "-3.321928094887362"
      ]
     },
     "execution_count": 123,
     "metadata": {},
     "output_type": "execute_result"
    }
   ],
   "source": []
  },
  {
   "cell_type": "code",
   "execution_count": 180,
   "metadata": {},
   "outputs": [
    {
     "data": {
      "text/plain": [
       "'0'"
      ]
     },
     "execution_count": 180,
     "metadata": {},
     "output_type": "execute_result"
    }
   ],
   "source": []
  },
  {
   "cell_type": "code",
   "execution_count": null,
   "metadata": {},
   "outputs": [],
   "source": []
  }
 ],
 "metadata": {
  "kernelspec": {
   "display_name": "Python 3",
   "language": "python",
   "name": "python3"
  },
  "language_info": {
   "codemirror_mode": {
    "name": "ipython",
    "version": 3
   },
   "file_extension": ".py",
   "mimetype": "text/x-python",
   "name": "python",
   "nbconvert_exporter": "python",
   "pygments_lexer": "ipython3",
   "version": "3.7.7"
  }
 },
 "nbformat": 4,
 "nbformat_minor": 4
}
